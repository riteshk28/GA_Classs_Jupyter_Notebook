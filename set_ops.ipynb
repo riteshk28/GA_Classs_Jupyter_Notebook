{
 "cells": [
  {
   "cell_type": "code",
   "execution_count": 1,
   "metadata": {
    "collapsed": true
   },
   "outputs": [],
   "source": [
    "marks = [10, 10, 10, 6, 8, 2, 10, 6, 7, 2, 2]"
   ]
  },
  {
   "cell_type": "code",
   "execution_count": 3,
   "metadata": {},
   "outputs": [
    {
     "name": "stdout",
     "output_type": "stream",
     "text": [
      "set([8, 10, 2, 6, 7])\n",
      "<type 'set'>\n"
     ]
    }
   ],
   "source": [
    "unique_marks = set(marks) # allows us to eleiminate duplicates(set operation)\n",
    "print unique_marks\n",
    "print type(unique_marks)"
   ]
  },
  {
   "cell_type": "code",
   "execution_count": 6,
   "metadata": {},
   "outputs": [
    {
     "name": "stdout",
     "output_type": "stream",
     "text": [
      "set([10, 3, 4, 45, 7])\n",
      "<type 'set'>\n"
     ]
    }
   ],
   "source": [
    "marks_b = {10, 4, 10, 3, 3, 3, 7, 45} # curved brackets allows us to create a set at the language level instead of calling a seprate operation\n",
    "print marks_b\n",
    "print type(marks_b)"
   ]
  },
  {
   "cell_type": "code",
   "execution_count": 8,
   "metadata": {},
   "outputs": [
    {
     "name": "stdout",
     "output_type": "stream",
     "text": [
      "set([3, 4, 10, 45, 25])\n"
     ]
    }
   ],
   "source": [
    "marks_b.add(25)\n",
    "marks_b.remove(7)\n",
    "print marks_b"
   ]
  },
  {
   "cell_type": "code",
   "execution_count": 18,
   "metadata": {},
   "outputs": [
    {
     "name": "stdout",
     "output_type": "stream",
     "text": [
      "set([2, 4, 5, 6])\n",
      "set([1, 2, 4, 5, 6])\n",
      "set([1])\n",
      "set([1])\n"
     ]
    }
   ],
   "source": [
    "marks_a = {5, 4, 2, 6, 2}\n",
    "marks_b = {2, 4, 5, 6, 1}\n",
    "print marks_a & marks_b # print unique marks from both a and b\n",
    "print marks_a | marks_b # print unique marks present in both the classthe \n",
    "print marks_b - marks_a\n",
    "print marks_b ^ marks_a"
   ]
  },
  {
   "cell_type": "code",
   "execution_count": null,
   "metadata": {
    "collapsed": true
   },
   "outputs": [],
   "source": []
  },
  {
   "cell_type": "code",
   "execution_count": null,
   "metadata": {
    "collapsed": true
   },
   "outputs": [],
   "source": []
  },
  {
   "cell_type": "code",
   "execution_count": null,
   "metadata": {
    "collapsed": true
   },
   "outputs": [],
   "source": []
  },
  {
   "cell_type": "code",
   "execution_count": null,
   "metadata": {
    "collapsed": true
   },
   "outputs": [],
   "source": []
  },
  {
   "cell_type": "code",
   "execution_count": 10,
   "metadata": {},
   "outputs": [
    {
     "name": "stdout",
     "output_type": "stream",
     "text": [
      "2\n",
      "4\n",
      "5\n",
      "6\n"
     ]
    }
   ],
   "source": [
    "#access set as a list\n",
    "for m in marks_a:\n",
    "    print m"
   ]
  },
  {
   "cell_type": "code",
   "execution_count": 13,
   "metadata": {},
   "outputs": [
    {
     "name": "stdout",
     "output_type": "stream",
     "text": [
      "[2, 4, 5, 6]\n",
      "[6, 5, 4, 2]\n"
     ]
    }
   ],
   "source": [
    "#converting set into list use listbif\n",
    "li = list(marks_a)\n",
    "li.sort() # just for sorting the list\n",
    "print li\n",
    "li.sort(reverse=True)\n",
    "print li"
   ]
  },
  {
   "cell_type": "code",
   "execution_count": 14,
   "metadata": {
    "collapsed": true
   },
   "outputs": [],
   "source": [
    "fruits = {} # this indeed creates a dict\n",
    "# hence use set bif to create an empty set\n",
    "\n",
    "fruits = set()"
   ]
  },
  {
   "cell_type": "code",
   "execution_count": null,
   "metadata": {
    "collapsed": true
   },
   "outputs": [],
   "source": []
  },
  {
   "cell_type": "code",
   "execution_count": null,
   "metadata": {
    "collapsed": true
   },
   "outputs": [],
   "source": []
  },
  {
   "cell_type": "code",
   "execution_count": null,
   "metadata": {
    "collapsed": true
   },
   "outputs": [],
   "source": []
  }
 ],
 "metadata": {
  "kernelspec": {
   "display_name": "Python 2",
   "language": "python",
   "name": "python2"
  },
  "language_info": {
   "codemirror_mode": {
    "name": "ipython",
    "version": 2
   },
   "file_extension": ".py",
   "mimetype": "text/x-python",
   "name": "python",
   "nbconvert_exporter": "python",
   "pygments_lexer": "ipython2",
   "version": "2.7.14"
  }
 },
 "nbformat": 4,
 "nbformat_minor": 2
}
